{
 "metadata": {
  "name": "",
  "signature": "sha256:6c3758c9940ed525792897fc77fc0c24e641844c551f1d0fbe496957438b0a8a"
 },
 "nbformat": 3,
 "nbformat_minor": 0,
 "worksheets": [
  {
   "cells": [
    {
     "cell_type": "heading",
     "level": 1,
     "metadata": {},
     "source": [
      "Why math?"
     ]
    },
    {
     "cell_type": "code",
     "collapsed": false,
     "input": [
      "from IPython.display import YouTubeVideo\n",
      "YouTubeVideo('60OVlfAUPJg')"
     ],
     "language": "python",
     "metadata": {},
     "outputs": [
      {
       "html": [
        "\n",
        "        <iframe\n",
        "            width=\"400\"\n",
        "            height=300\"\n",
        "            src=\"https://www.youtube.com/embed/60OVlfAUPJg\"\n",
        "            frameborder=\"0\"\n",
        "            allowfullscreen\n",
        "        ></iframe>\n",
        "        "
       ],
       "metadata": {},
       "output_type": "pyout",
       "prompt_number": 2,
       "text": [
        "<IPython.lib.display.YouTubeVideo at 0x109c33950>"
       ]
      }
     ],
     "prompt_number": 2
    },
    {
     "cell_type": "markdown",
     "metadata": {},
     "source": [
      "Before I get started I want to draw your attention to the video above, given by [Conrad Wolfram](http://en.wikipedia.org/wiki/Conrad_Wolfram) in 2010. He asserts that many people's problem with math stems from how it is taught and the content courses rather than the subject itself. Whilst I disagree with parts of that he says, he does make some excellent points - particularly about using the computational ability of computers to aid your understanding rather than torturously doing hundreds of problems by hand. With this in mind I'm going to try and construct the following review notes with this is mind. I'll start by asking some relevant questions and then showing the tools needed to answer those questions. Then in each section you will find a subsection called 'the mechanics' which will go through how to do certain types of problems. This is intended as reference and not anything else, useful for re-formulating your problems in a way that you know how to answer. So lets get into some engineering-y questions!"
     ]
    },
    {
     "cell_type": "markdown",
     "metadata": {},
     "source": [
      "> The plot below shows the trajectory of two 'Angry Birds'. You're trying to code a cheap knockoff of the game. You have used python's numpy library and the least square fitting method to fit a polynomial to the trajectory and it has yeilded the equation below. What's the speed (**not velocity**) of the black line bird at 30 meters? What's the equivalent gravity in angry bird land?"
     ]
    },
    {
     "cell_type": "code",
     "collapsed": false,
     "input": [
      "from numpy import linspace\n",
      "tx = linspace(0,50, 6)"
     ],
     "language": "python",
     "metadata": {},
     "outputs": [],
     "prompt_number": 25
    },
    {
     "cell_type": "code",
     "collapsed": false,
     "input": [
      "plot(tx, [-2*(i-10)**2+2500 for i in tx],'ko-')\n",
      "plot(tx, [-2.5*(i-5)**2+2500 for i in tx],'ro-')\n",
      "ylim(0,3000)\n",
      "xlabel('Distance')\n",
      "ylabel('Height')"
     ],
     "language": "python",
     "metadata": {},
     "outputs": [
      {
       "metadata": {},
       "output_type": "pyout",
       "prompt_number": 26,
       "text": [
        "<matplotlib.text.Text at 0x10a296c90>"
       ]
      },
      {
       "metadata": {},
       "output_type": "display_data",
       "png": "[encoded data removed]",
       "text": [
        "<matplotlib.figure.Figure at 0x10a207dd0>"
       ]
      }
     ],
     "prompt_number": 26
    },
    {
     "cell_type": "markdown",
     "metadata": {},
     "source": [
      "> You have been given a crystal radio set which an be simplified to the circuit below. Crystal radio sets work by frequency matching their resonant frequency to that of the radio signal they're trying to detect. Given that you have a capacitor (5 $\\mu$F)  and an inductor (10 mH) and that you need to find the minimum impedance of the circuit to locate the resonant frequency, in order to detect a 100 MHz signal with the crystal, what resistance should the variable resistor be set to?"
     ]
    },
    {
     "cell_type": "markdown",
     "metadata": {},
     "source": [
      "> Stationary points"
     ]
    },
    {
     "cell_type": "heading",
     "level": 1,
     "metadata": {},
     "source": [
      "Differentiation: The Reasons"
     ]
    },
    {
     "cell_type": "code",
     "collapsed": false,
     "input": [],
     "language": "python",
     "metadata": {},
     "outputs": []
    },
    {
     "cell_type": "heading",
     "level": 1,
     "metadata": {},
     "source": [
      "Differentiation: The Mechanics"
     ]
    },
    {
     "cell_type": "markdown",
     "metadata": {},
     "source": [
      "#####Elementary\n",
      "if $y = x^n$ then $\\frac{dy}{dx} = nx^{n-1}$\n",
      "#####Product Rule\n",
      "$(f(x)g(x))' = f'(x)g(x) + g(x)'f(x)$\n",
      "#####Quotient Rule\n",
      "$\\left(\\frac{f}{g}\\right) = \\frac{f'g - g'f}{g^2}$ \n",
      "#####Chain Rule\n",
      "$ \\frac{dy}{dx} = \\frac{dy}{dh}  \\frac{dh}{dx}$\n",
      "#####Log Rules\n",
      "if $y = ln(f(x))$ then $\\frac{dy}{dx} = \\frac{f'(x)}{f(x)}$"
     ]
    },
    {
     "cell_type": "markdown",
     "metadata": {},
     "source": [
      "#####Taylor Polynomials - derivatives for approximating functions about a specific point: x = a\n",
      "$p_n(x) = y(a) + y'(a)(x-a) + y''(a) \\frac{(x-a)^2}{2!} + ... + y^{(n)}(a)\\frac{(x - a)^n}{n!} $"
     ]
    },
    {
     "cell_type": "heading",
     "level": 1,
     "metadata": {},
     "source": [
      "Integration: The Reasons"
     ]
    },
    {
     "cell_type": "code",
     "collapsed": false,
     "input": [],
     "language": "python",
     "metadata": {},
     "outputs": []
    },
    {
     "cell_type": "heading",
     "level": 1,
     "metadata": {},
     "source": [
      "Integration: The Mechanics"
     ]
    },
    {
     "cell_type": "markdown",
     "metadata": {},
     "source": [
      "#####Elementary\n",
      "if $f(x) = x^n$ then $\\int f(x) dx = \\frac{x^{n+1}}{n+1} + C$\n",
      "#####Defininte Integrals\n",
      " Area under $f(x) = \\int_a^b f'(x) dx = [f(x)]^b_a  = f(b) - f(a)$\n",
      "#####Integration by Parts\n",
      "$\\int u \\left( \\frac{dv}{dx} \\right) dx = uv - \\int v\\frac{du}{dx}dx$\n",
      "#####Integration by substitution\n",
      "$\\int f dx = \\int \\frac{df}{dh} \\frac{dh}{dx} + c $\n",
      "#####Log Rule\n",
      "$\\int \\frac{df/dx}{f}dx = ln |f| + c$\n",
      "#####Partial Fractions\n",
      "$\\int \\frac{1}{(f)(g)}dx = \\int \\frac{A}{f}dx + \\int \\frac{B}{g}dx $ which can be solved for A and B using coefficient matching\n",
      "#####Improper Integrals\n",
      "$\\int_{-\\infty}^{\\infty} f'(x) dx = [f(x)]^{\\infty}_{-\\infty} = \\lim \\limits_{x \\to \\infty}f(x) - \\lim \\limits_{x \\to -\\infty}f(x)$ "
     ]
    },
    {
     "cell_type": "markdown",
     "metadata": {},
     "source": [
      "####Numerical integration\n",
      "#####Trapezium Rule\n",
      "area of trapezia underneath $y$ $=\\frac{w}{2}(y_0 + 2 y_1 + 2y_2 + ... + 2y_{n-1}+ y_n) $ if each trapezium has width $w$\n",
      "#####Simpsons Rule\n",
      "area of quadratics underneath $y$ $\\approx \\frac{w}{3}(y_0 + 4(y_1 + y_3 + ...) + 2(y_2+y_4+...)+ y_n) $ if each quadratic has width $w$\n"
     ]
    },
    {
     "cell_type": "code",
     "collapsed": false,
     "input": [
      "#numerical integration example"
     ],
     "language": "python",
     "metadata": {},
     "outputs": []
    },
    {
     "cell_type": "heading",
     "level": 1,
     "metadata": {},
     "source": [
      "Ordinary Differential Equations (ODEs)"
     ]
    },
    {
     "cell_type": "markdown",
     "metadata": {},
     "source": [
      "#####Separation of variables\n",
      "The solution of $\\frac{dy}{dx} = f(x) g(y)$ can be found from $ \\int \\frac{1}{g(y)} dy = \\int f(x) dx$"
     ]
    },
    {
     "cell_type": "markdown",
     "metadata": {},
     "source": [
      "#####First Order Linear Equations\n",
      "The integrating factor for   \n",
      "$\\frac{dx}{dt} + Px  = Q$  \n",
      "where P and Q are functions of _t_, is given by  \n",
      "$\\mu = e^{\\int P dt}$  \n",
      "and the solution of the equation is obtained from  \n",
      "$\\mu x = \\int \\mu Q dt$"
     ]
    },
    {
     "cell_type": "markdown",
     "metadata": {},
     "source": [
      "#####Second Order Linear Equations\n",
      "######Homogeneous\n",
      "$p(x) \\frac{d^2y}{dx^2} + q(x) \\frac{dy}{dx} + r(x)y = 0$  \n",
      "has the solution  \n",
      "$y_H(x) = A y_1(x) + By_2(x)$ where y_1(x) and y_2(x) are linearly independant solutions\n",
      "######Inhomogeneous\n",
      "$p(x) \\frac{d^2y}{dx^2} + q(x) \\frac{dy}{dx} + r(x)y = f(x)$  \n",
      "has the solution  \n",
      "$y(x) = y_H(x) + y_P(x)$ where $y_H(x)$ and $y_P(x)$ are the solution to the homogeneous form of the equation and the particular integral respectively"
     ]
    },
    {
     "cell_type": "markdown",
     "metadata": {},
     "source": [
      "#####Constant Coefficient Homogeneous equations\n",
      "$a \\frac{d^2y}{dx^2} + b \\frac{dy}{dx} + cy = 0$  has the auxiliary equation  \n",
      "$ak^2 + bk + c = 0$\n",
      "if the above equation has real, distinct roots $k_1$ and $k_2$ then the solution will be:  \n",
      "$y(x) = Ae^{k_1x}+Be^{k_2x}$  \n",
      "if the above equation has imaginary distinct roots $\\alpha + \\beta i$ and $\\alpha-\\beta i$ then the solution will be:  \n",
      "$y(x) = e^{\\alpha x}(A cos \\beta x + B sin \\beta x)$  \n",
      "which has been gained using the relations  \n",
      "$e^{-aix} = cos(ax)- i sin(ax)$ and $e^{aix} = cos(ax)+ i sin(ax)$"
     ]
    },
    {
     "cell_type": "code",
     "collapsed": false,
     "input": [],
     "language": "python",
     "metadata": {},
     "outputs": []
    }
   ],
   "metadata": {}
  }
 ]
}