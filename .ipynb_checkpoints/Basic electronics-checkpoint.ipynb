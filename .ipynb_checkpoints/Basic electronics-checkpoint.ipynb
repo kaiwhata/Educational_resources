{
 "metadata": {
  "name": "",
  "signature": "sha256:b5b935a3f47150498fb07c5373eaf2fc78627c0a1387118ab03a292f94fb54ad"
 },
 "nbformat": 3,
 "nbformat_minor": 0,
 "worksheets": [
  {
   "cells": [
    {
     "cell_type": "markdown",
     "metadata": {},
     "source": [
      "As any sort of engineer you should have some knowledge of electronics, and by learning a couple of core concepts you can get a reasonable handle on how to calculate or construct various circuits (or at least to know what the bits are when you're ripping them apart or hacking and debugging them). So here's a _very_ brief reminder of basic circuti methods, calculations and components."
     ]
    },
    {
     "cell_type": "heading",
     "level": 1,
     "metadata": {},
     "source": [
      "Ohm's Law: V = IR"
     ]
    },
    {
     "cell_type": "markdown",
     "metadata": {},
     "source": [
      "This is the electronics equivalent of saying '_the harder you push something the faster it goes_'. The voltage (_V_) is the electronic potential of the circuit (an electronic analogue of the height something is at relative to a graviational field) which provides the electronic _push_ that moves electrons around the circuit. The current (_I_) is how quickly charges move through the circuit as a consequence of the push (literally $I = \\frac{dQ}{dt}$, the rate of change of the charges (_Q_) in the circuit). Finally the resisitance (_R_) is how much the circuit (or parts of the circuit) resist the flow of current. Going back to our height analogy, imagine taking an object to the top of a building and dropping it off. The height of the building is the potential in this system (and note that it takes work to carry the object up there because you're moving it _against_ the direction of the gravitational field). How fast does the thing fall? We don't know. The rate of fall here is our analogue of current and our resistance analogue is air resistance. So something like a feather will drop slowly (low current) because it has high resistance even if it's exposed to a high voltage. Conversly, a bowling ball will have a much lower resistance and so will fall faster. As with all analogies though, this one isn't perfect (that's why many people prefer to talk about analogies with flowing water instead which is a far superior analogy to mine)."
     ]
    },
    {
     "cell_type": "heading",
     "level": 1,
     "metadata": {},
     "source": [
      "Voltage Dividers"
     ]
    },
    {
     "cell_type": "markdown",
     "metadata": {},
     "source": [
      "So here's and example of why you might be intersted in Ohm's law a for circuits. You may be aware that many microcontrollers operate using binary logic and that they use standard voltages of either 5 (most arduinos) or 3.3 Volts (the Rasberry Pi). Many sensors operate on the same voltages but what happens if you have a sensor with a 5V output but you want to connect it to a 3.3V system? Well if you connect it directly the the increased voltage may destroy your microcontroller (unlikely though). But we can use Ohm's law and a couple of resistors to divide the voltage across a few resistors and thus limit the voltage across our microcontroller to a nice, safe 3.3V."
     ]
    },
    {
     "cell_type": "code",
     "collapsed": false,
     "input": [],
     "language": "python",
     "metadata": {},
     "outputs": []
    },
    {
     "cell_type": "heading",
     "level": 1,
     "metadata": {},
     "source": [
      "Work: W=F.d"
     ]
    },
    {
     "cell_type": "markdown",
     "metadata": {},
     "source": [
      "Just quickly we need to take a look at a concept i mentioned in the previous paragraph - Work. Physically work is _required_ when you want to move something some displacement (_d_) **against** a potential. Think about it - if a ball box is sitting on the floor, you wouldn't expect it to jump up onto a table unless someone or something expended energy (i.e. _work_) to lift it up and place it there. It's exactly the same in an electrical system - we wouldn't expect a charged object to move 'up' and electric potential unless something was doing work on it. Furthermore we can figure out exactly how much work is required to move it by multiplying the force required to move it by the displacement it is moved. Why do I keep saying _displacement_ and not _distance_? Because the direction of the movement is **really** important. Looking back to our box on the floor, it takes almost no work to push it across the floor (apart from what is needed to combat friction) because we're moving it perpendicular to the potential field. But if we move it parallel to the field (i.e. up onto the desk) then we do have to do work. The _displacement_ I keep mentioning is the distance parallel to the potential direction it is being moved. Finally th amount of work is measued in Joules, the unity of energy because that is exactly what is used up when we do work.\n",
      "\n",
      "Warning: There is one fatal flaw in this analogy - gravity only attracts so gravitational potentials only accelerate things in one direction. For electronics we have two possible charges (positive or negative) which react to an electrical potential in exactly opposite ways. Imagine if we discovered something that could do that with gravitational fields! Why might we not have discovered it yet if it does, in fact, exist?"
     ]
    },
    {
     "cell_type": "heading",
     "level": 1,
     "metadata": {},
     "source": [
      "Voltage Dividers"
     ]
    },
    {
     "cell_type": "code",
     "collapsed": false,
     "input": [],
     "language": "python",
     "metadata": {},
     "outputs": []
    },
    {
     "cell_type": "heading",
     "level": 1,
     "metadata": {},
     "source": [
      "Power"
     ]
    },
    {
     "cell_type": "heading",
     "level": 1,
     "metadata": {},
     "source": [
      "Kirchoff's Current Law"
     ]
    },
    {
     "cell_type": "heading",
     "level": 1,
     "metadata": {},
     "source": [
      "Kirchoff's Voltage Law"
     ]
    },
    {
     "cell_type": "heading",
     "level": 1,
     "metadata": {},
     "source": [
      "Capacitors"
     ]
    },
    {
     "cell_type": "markdown",
     "metadata": {},
     "source": [
      "$ I = I_0 e^{\\frac{-t}{\\tau}}$"
     ]
    },
    {
     "cell_type": "code",
     "collapsed": false,
     "input": [
      "def I(t, I0, tau):\n",
      "    return (I0*exp(-1*t/tau))"
     ],
     "language": "python",
     "metadata": {},
     "outputs": [],
     "prompt_number": 17
    },
    {
     "cell_type": "markdown",
     "metadata": {},
     "source": [
      "$\\tau = \\frac{R}{C}$"
     ]
    },
    {
     "cell_type": "markdown",
     "metadata": {},
     "source": [
      "$C = \\frac{\\varepsilon A}{d}$"
     ]
    },
    {
     "cell_type": "code",
     "collapsed": false,
     "input": [
      "from numpy import linspace"
     ],
     "language": "python",
     "metadata": {},
     "outputs": [],
     "prompt_number": 3
    },
    {
     "cell_type": "code",
     "collapsed": false,
     "input": [
      "t = linspace(0,100, 100)"
     ],
     "language": "python",
     "metadata": {},
     "outputs": [],
     "prompt_number": 21
    },
    {
     "cell_type": "code",
     "collapsed": false,
     "input": [
      "plot(t, [I(i, 1.0, 10.0/0.02) for i in t], 'b.-', label='$R = 10 \\Omega,$ $C = 2 mF$')\n",
      "plot(t, [I(i, 1.0, 1.0/0.02) for i in t], 'k.-', label='$R = 1 \\Omega,$ $C = 2 mF$')\n",
      "plot(t, [I(i, 1.0, 1.0/0.05) for i in t], 'r.-', label='$R = 1 \\Omega,$ $C = 5 mF$')\n",
      "ylim(0,1.1)\n",
      "xlim(0,110 )\n",
      "xlabel('Time / s')\n",
      "ylabel('Current / %')\n",
      "legend(loc='best')"
     ],
     "language": "python",
     "metadata": {},
     "outputs": [
      {
       "metadata": {},
       "output_type": "pyout",
       "prompt_number": 31,
       "text": [
        "<matplotlib.legend.Legend at 0x10b0003d0>"
       ]
      },
      {
       "metadata": {},
       "output_type": "display_data",
       "png": "[encoded data removed]",
       "text": [
        "<matplotlib.figure.Figure at 0x10b039e90>"
       ]
      }
     ],
     "prompt_number": 31
    },
    {
     "cell_type": "heading",
     "level": 1,
     "metadata": {},
     "source": [
      "Useful notes"
     ]
    },
    {
     "cell_type": "markdown",
     "metadata": {},
     "source": [
      "There is a LaTeX package for drawing electronic circuits called _Circuitikz_. There's a nice tutorial for getting you started with it [here](https://www.sharelatex.com/blog/2013/09/02/tikz-series-pt4.html) and I've done all the circuit graphics in this document using it to give you an example of what can be easily be drawn with it. "
     ]
    },
    {
     "cell_type": "code",
     "collapsed": false,
     "input": [],
     "language": "python",
     "metadata": {},
     "outputs": []
    }
   ],
   "metadata": {}
  }
 ]
}