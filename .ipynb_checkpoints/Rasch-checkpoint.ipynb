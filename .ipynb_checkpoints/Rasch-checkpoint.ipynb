{
 "metadata": {
  "name": "",
  "signature": "sha256:ea7bfa5c6ef50950aaf50f22997a71f9e6a51329fc1bce37727f3c4ad1b5842c"
 },
 "nbformat": 3,
 "nbformat_minor": 0,
 "worksheets": [
  {
   "cells": [
    {
     "cell_type": "heading",
     "level": 1,
     "metadata": {},
     "source": [
      "My first attempt at performing and understanding Rasch analysis of some anonymised student data"
     ]
    },
    {
     "cell_type": "heading",
     "level": 1,
     "metadata": {},
     "source": [
      "Worked model example available here:"
     ]
    },
    {
     "cell_type": "code",
     "collapsed": false,
     "input": [
      "http://www.creative-wisdom.com/computer/sas/IRT.pdf"
     ],
     "language": "python",
     "metadata": {},
     "outputs": []
    },
    {
     "cell_type": "markdown",
     "metadata": {},
     "source": [
      "$\\mathrm{Probability} =1/(1+exp(-(\\mathrm{prof} \u2013 \\mathrm{diff})))  $"
     ]
    },
    {
     "cell_type": "heading",
     "level": 1,
     "metadata": {},
     "source": [
      "Basic model only works off correct and incorrect responses - exclude multi-mark questions"
     ]
    },
    {
     "cell_type": "heading",
     "level": 1,
     "metadata": {},
     "source": [
      "My working"
     ]
    },
    {
     "cell_type": "code",
     "collapsed": false,
     "input": [
      "%%bash\n",
      "ls *.csv"
     ],
     "language": "python",
     "metadata": {},
     "outputs": [
      {
       "output_type": "stream",
       "stream": "stdout",
       "text": [
        "diagnostic_data.csv\n"
       ]
      }
     ],
     "prompt_number": 3
    },
    {
     "cell_type": "code",
     "collapsed": false,
     "input": [
      "def load(filename):\n",
      "    ifile = open(filename, 'rU')\n",
      "    data = []\n",
      "    for line in ifile.readlines():\n",
      "        line=line.strip()\n",
      "        line=line.split(',')\n",
      "        data.append(line[:-1])\n",
      "    return data"
     ],
     "language": "python",
     "metadata": {},
     "outputs": [],
     "prompt_number": 108
    },
    {
     "cell_type": "code",
     "collapsed": false,
     "input": [
      "diagnostic = load('diagnostic_data.csv')\n",
      "diagnostic[1][0] = '000000'"
     ],
     "language": "python",
     "metadata": {},
     "outputs": [],
     "prompt_number": 109
    },
    {
     "cell_type": "code",
     "collapsed": false,
     "input": [
      "print diagnostic[0] "
     ],
     "language": "python",
     "metadata": {},
     "outputs": [
      {
       "output_type": "stream",
       "stream": "stdout",
       "text": [
        "['Student ID', 'Q1', 'Q2', 'Q3', 'Q4', 'Q5', 'Q6', 'Q7', 'Q8', 'Q9', 'Q10', 'Q11', 'Q12', 'Q13', 'Q14', 'Q15', 'Q16', 'Q17', 'Q18', 'Q19', 'Q20', 'Q21', 'Q22', 'Q23', 'Q24', 'Q25', 'Q26', 'Q27', 'Q28', 'Q29', 'Q30', 'Q31', 'Q32', 'Q33', 'Q34']\n"
       ]
      }
     ],
     "prompt_number": 110
    },
    {
     "cell_type": "code",
     "collapsed": false,
     "input": [
      "print diagnostic[1] "
     ],
     "language": "python",
     "metadata": {},
     "outputs": [
      {
       "output_type": "stream",
       "stream": "stdout",
       "text": [
        "['000000', '1', '1', '2', '1', '2', '2', '2', '1', '2', '2', '2', '2', '1', '1', '1', '3', '2', '2', '2', '2', '3', '2', '2', '1', '1', '2', '3', '3', '3', '1', '1', '1', '2', '1']\n"
       ]
      }
     ],
     "prompt_number": 111
    },
    {
     "cell_type": "code",
     "collapsed": false,
     "input": [
      "import numpy as np"
     ],
     "language": "python",
     "metadata": {},
     "outputs": [],
     "prompt_number": 112
    },
    {
     "cell_type": "code",
     "collapsed": false,
     "input": [
      "matrix = np.array(diagnostic[1:])"
     ],
     "language": "python",
     "metadata": {},
     "outputs": [],
     "prompt_number": 113
    },
    {
     "cell_type": "code",
     "collapsed": false,
     "input": [
      "print matrix"
     ],
     "language": "python",
     "metadata": {},
     "outputs": [
      {
       "output_type": "stream",
       "stream": "stdout",
       "text": [
        "[['000000' '1' '1' ..., '1' '2' '1']\n",
        " ['300324016' '0' '0' ..., '0' '0' '0']\n",
        " ['300306690' '0' '0' ..., '0' '0' '0']\n",
        " ..., \n",
        " ['300306652' '1' '1' ..., '1' '2' '1']\n",
        " ['300312734' '1' '1' ..., '1' '1' '1']\n",
        " ['300330308' '1' '1' ..., '1' '2' '1']]\n"
       ]
      }
     ],
     "prompt_number": 114
    },
    {
     "cell_type": "heading",
     "level": 1,
     "metadata": {},
     "source": [
      "Histogram"
     ]
    },
    {
     "cell_type": "code",
     "collapsed": false,
     "input": [
      "ovall = []\n",
      "for row in matrix[1:]:\n",
      "    ovall.append(sum([float(i) for i in row[1:]]))"
     ],
     "language": "python",
     "metadata": {},
     "outputs": [],
     "prompt_number": 138
    },
    {
     "cell_type": "code",
     "collapsed": false,
     "input": [
      "hist(ovall)"
     ],
     "language": "python",
     "metadata": {},
     "outputs": [
      {
       "metadata": {},
       "output_type": "pyout",
       "prompt_number": 139,
       "text": [
        "(array([ 15.,  10.,  18.,  19.,  25.,  31.,  20.,  15.,  19.,   7.]),\n",
        " array([  0. ,   5.5,  11. ,  16.5,  22. ,  27.5,  33. ,  38.5,  44. ,\n",
        "         49.5,  55. ]),\n",
        " <a list of 10 Patch objects>)"
       ]
      },
      {
       "metadata": {},
       "output_type": "display_data",
       "png": "[encoded data removed]",
       "text": [
        "<matplotlib.figure.Figure at 0x105e87310>"
       ]
      }
     ],
     "prompt_number": 139
    },
    {
     "cell_type": "heading",
     "level": 1,
     "metadata": {},
     "source": [
      "First - rank questions in order of difficulty"
     ]
    },
    {
     "cell_type": "heading",
     "level": 2,
     "metadata": {},
     "source": [
      "We can do this by their average mark or by the number of students that got them correct."
     ]
    },
    {
     "cell_type": "code",
     "collapsed": false,
     "input": [
      "students = []\n",
      "q_zero = []\n",
      "q_full_marks = []\n",
      "q_diff = []\n",
      "q_av = []\n",
      "questions = []\n",
      "\n",
      "for question in range(1,len(matrix[0,:])):\n",
      "    zeros = 0\n",
      "    full_marks = 0\n",
      "    avg = []\n",
      "    for row in range(1,len(matrix[:,question])):\n",
      "        #print matrix[row,question], matrix[0,question],  matrix[row,0]\n",
      "        if matrix[row,question] == '0':\n",
      "            zeros+=1\n",
      "            avg.append(0.0)\n",
      "        elif float(matrix[row,question]) >= float(matrix[0,question]):\n",
      "            full_marks +=1\n",
      "            avg.append(1.00)\n",
      "        else:\n",
      "            avg.append(float(matrix[row,question])/float(matrix[0,question]))\n",
      "    q_zero.append(zeros)\n",
      "    q_full_marks.append(full_marks)\n",
      "    q_diff.append(full_marks-zeros)\n",
      "    \n",
      "    q_av.append(average(avg))\n",
      "    \n",
      "    dictionary = {\n",
      "    'average':average(avg),\n",
      "    'zeros':q_zero,\n",
      "    'name':'Q'+str(question),\n",
      "    'full_marks':q_full_marks,\n",
      "    'diff':(full_marks-zeros)\n",
      "    }\n",
      "    \n",
      "    questions.append(dictionary)\n",
      "    \n",
      "print q_zero\n",
      "print q_full_marks\n",
      "print q_diff\n",
      "print q_av"
     ],
     "language": "python",
     "metadata": {},
     "outputs": [
      {
       "output_type": "stream",
       "stream": "stdout",
       "text": [
        "[42, 70, 107, 51, 87, 16, 40, 39, 82, 108, 99, 67, 50, 55, 39, 42, 62, 42, 98, 143, 110, 119, 160, 42, 70, 78, 108, 92, 110, 117, 162, 120, 111, 93]\n",
        "[137, 109, 0, 128, 50, 162, 115, 140, 69, 67, 52, 63, 128, 122, 134, 65, 62, 135, 68, 29, 43, 52, 14, 132, 105, 89, 37, 14, 33, 62, 17, 59, 15, 86]\n",
        "[95, 39, -107, 77, -37, 146, 75, 101, -13, -41, -47, -4, 78, 67, 95, 23, 0, 93, -30, -114, -67, -67, -146, 90, 35, 11, -71, -78, -77, -55, -145, -61, -96, -7]\n",
        "[0.76536312849162014, 0.60893854748603349, 0.2011173184357542, 0.71508379888268159, 0.39664804469273746, 0.90782122905027929, 0.70949720670391059, 0.78212290502793291, 0.46368715083798884, 0.38547486033519551, 0.35893854748603354, 0.48463687150837986, 0.71787709497206709, 0.68715083798882681, 0.76536312849162014, 0.56610800744878997, 0.49860335195530725, 0.75837988826815639, 0.41620111731843573, 0.18156424581005587, 0.32960893854748591, 0.31284916201117319, 0.09217877094972067, 0.75139664804469275, 0.5977653631284916, 0.53072625698324027, 0.30446927374301674, 0.30260707635009304, 0.29236499068901295, 0.34636871508379891, 0.094972067039106142, 0.32960893854748602, 0.22905027932960895, 0.48044692737430167]\n"
       ]
      }
     ],
     "prompt_number": 115
    },
    {
     "cell_type": "code",
     "collapsed": false,
     "input": [
      "out = []\n",
      "for question in questions:\n",
      "    #print question['name'], question['average'], question['diff']\n",
      "    out.append([question['name'], question['average'], question['diff']])\n",
      "    \n"
     ],
     "language": "python",
     "metadata": {},
     "outputs": [],
     "prompt_number": 116
    },
    {
     "cell_type": "heading",
     "level": 1,
     "metadata": {},
     "source": [
      "#generate question list sorted by average"
     ]
    },
    {
     "cell_type": "code",
     "collapsed": false,
     "input": [
      "for line in sorted(out, key=lambda x: x[2]):\n",
      "    print line"
     ],
     "language": "python",
     "metadata": {},
     "outputs": [
      {
       "output_type": "stream",
       "stream": "stdout",
       "text": [
        "['Q23', 0.09217877094972067, -146]\n",
        "['Q31', 0.094972067039106142, -145]\n",
        "['Q20', 0.18156424581005587, -114]\n",
        "['Q3', 0.2011173184357542, -107]\n",
        "['Q33', 0.22905027932960895, -96]\n",
        "['Q28', 0.30260707635009304, -78]\n",
        "['Q29', 0.29236499068901295, -77]\n",
        "['Q27', 0.30446927374301674, -71]\n",
        "['Q21', 0.32960893854748591, -67]\n",
        "['Q22', 0.31284916201117319, -67]\n",
        "['Q32', 0.32960893854748602, -61]\n",
        "['Q30', 0.34636871508379891, -55]\n",
        "['Q11', 0.35893854748603354, -47]\n",
        "['Q10', 0.38547486033519551, -41]\n",
        "['Q5', 0.39664804469273746, -37]\n",
        "['Q19', 0.41620111731843573, -30]\n",
        "['Q9', 0.46368715083798884, -13]\n",
        "['Q34', 0.48044692737430167, -7]\n",
        "['Q12', 0.48463687150837986, -4]\n",
        "['Q17', 0.49860335195530725, 0]\n",
        "['Q26', 0.53072625698324027, 11]\n",
        "['Q16', 0.56610800744878997, 23]\n",
        "['Q25', 0.5977653631284916, 35]\n",
        "['Q2', 0.60893854748603349, 39]\n",
        "['Q14', 0.68715083798882681, 67]\n",
        "['Q7', 0.70949720670391059, 75]\n",
        "['Q4', 0.71508379888268159, 77]\n",
        "['Q13', 0.71787709497206709, 78]\n",
        "['Q24', 0.75139664804469275, 90]\n",
        "['Q18', 0.75837988826815639, 93]\n",
        "['Q1', 0.76536312849162014, 95]\n",
        "['Q15', 0.76536312849162014, 95]\n",
        "['Q8', 0.78212290502793291, 101]\n",
        "['Q6', 0.90782122905027929, 146]\n"
       ]
      }
     ],
     "prompt_number": 117
    },
    {
     "cell_type": "code",
     "collapsed": false,
     "input": [
      "for line in sorted(out, key=lambda x: x[1]): #number correct/incorrect\n",
      "    print line"
     ],
     "language": "python",
     "metadata": {},
     "outputs": [
      {
       "output_type": "stream",
       "stream": "stdout",
       "text": [
        "['Q23', 0.09217877094972067, -146]\n",
        "['Q31', 0.094972067039106142, -145]\n",
        "['Q20', 0.18156424581005587, -114]\n",
        "['Q3', 0.2011173184357542, -107]\n",
        "['Q33', 0.22905027932960895, -96]\n",
        "['Q29', 0.29236499068901295, -77]\n",
        "['Q28', 0.30260707635009304, -78]\n",
        "['Q27', 0.30446927374301674, -71]\n",
        "['Q22', 0.31284916201117319, -67]\n",
        "['Q21', 0.32960893854748591, -67]\n",
        "['Q32', 0.32960893854748602, -61]\n",
        "['Q30', 0.34636871508379891, -55]\n",
        "['Q11', 0.35893854748603354, -47]\n",
        "['Q10', 0.38547486033519551, -41]\n",
        "['Q5', 0.39664804469273746, -37]\n",
        "['Q19', 0.41620111731843573, -30]\n",
        "['Q9', 0.46368715083798884, -13]\n",
        "['Q34', 0.48044692737430167, -7]\n",
        "['Q12', 0.48463687150837986, -4]\n",
        "['Q17', 0.49860335195530725, 0]\n",
        "['Q26', 0.53072625698324027, 11]\n",
        "['Q16', 0.56610800744878997, 23]\n",
        "['Q25', 0.5977653631284916, 35]\n",
        "['Q2', 0.60893854748603349, 39]\n",
        "['Q14', 0.68715083798882681, 67]\n",
        "['Q7', 0.70949720670391059, 75]\n",
        "['Q4', 0.71508379888268159, 77]\n",
        "['Q13', 0.71787709497206709, 78]\n",
        "['Q24', 0.75139664804469275, 90]\n",
        "['Q18', 0.75837988826815639, 93]\n",
        "['Q1', 0.76536312849162014, 95]\n",
        "['Q15', 0.76536312849162014, 95]\n",
        "['Q8', 0.78212290502793291, 101]\n",
        "['Q6', 0.90782122905027929, 146]\n"
       ]
      }
     ],
     "prompt_number": 118
    },
    {
     "cell_type": "heading",
     "level": 1,
     "metadata": {},
     "source": [
      "Correlation Test"
     ]
    },
    {
     "cell_type": "code",
     "collapsed": false,
     "input": [
      "dep = []\n",
      "indep = []\n",
      "for line in sorted(out, key=lambda x: x[2]):\n",
      "    dep.append(line[2])\n",
      "    indep.append(line[1])\n",
      "    \n",
      "plot(dep, indep, 'bo')"
     ],
     "language": "python",
     "metadata": {},
     "outputs": [
      {
       "metadata": {},
       "output_type": "pyout",
       "prompt_number": 119,
       "text": [
        "[<matplotlib.lines.Line2D at 0x105e6f950>]"
       ]
      },
      {
       "metadata": {},
       "output_type": "display_data",
       "png": "[encoded data removed]",
       "text": [
        "<matplotlib.figure.Figure at 0x10584f350>"
       ]
      }
     ],
     "prompt_number": 119
    },
    {
     "cell_type": "heading",
     "level": 1,
     "metadata": {},
     "source": [
      "Plotting"
     ]
    },
    {
     "cell_type": "code",
     "collapsed": false,
     "input": [
      "print len(matrix[:,0])"
     ],
     "language": "python",
     "metadata": {},
     "outputs": [
      {
       "output_type": "stream",
       "stream": "stdout",
       "text": [
        "180\n"
       ]
      }
     ],
     "prompt_number": 120
    },
    {
     "cell_type": "code",
     "collapsed": false,
     "input": [
      "\n",
      "rows = [15]\n",
      "\n",
      "figure(1,(12,6))\n",
      "for student_row in rows:\n",
      "    difficulty = []\n",
      "    marks = []\n",
      "    #return student marks for those questions\n",
      "    for line in sorted(out, key=lambda x: x[2]):\n",
      "        #print line, matrix[student_row,int(line[0][1:])]\n",
      "\n",
      "        if not matrix[student_row,int(line[0][1:])] == 0:\n",
      "            pc = float(matrix[student_row,int(line[0][1:])])/float(matrix[0,int(line[0][1:])])\n",
      "        else:\n",
      "            pc = 0\n",
      "        difficulty.append(line[-1])\n",
      "        marks.append(pc)\n",
      "\n",
      "    plot(difficulty,marks,'o-', label=str(student_row))\n",
      "\n",
      "\n",
      "xlabel('Difficulty / Full marks - 0s')\n",
      "ylabel('% for question')\n",
      "ylim(-0.05, 1.05)\n",
      "legend(loc='best')\n",
      "\n",
      "\n",
      "figure(2,(12,6))\n",
      "for student_row in rows:\n",
      "    difficulty = []\n",
      "    marks = []\n",
      "    #return student marks for those questions\n",
      "    for line in sorted(out, key=lambda x: x[1]):\n",
      "        #print line, matrix[student_row,int(line[0][1:])]\n",
      "\n",
      "        if not matrix[student_row,int(line[0][1:])] == 0:\n",
      "            pc = float(matrix[student_row,int(line[0][1:])])/float(matrix[0,int(line[0][1:])])\n",
      "        else:\n",
      "            pc = 0\n",
      "        difficulty.append(line[-1])\n",
      "        marks.append(pc)\n",
      "\n",
      "    plot(difficulty,marks,'o-', label=str(student_row))\n",
      "\n",
      "\n",
      "xlabel('Difficulty / Avg Mark')\n",
      "ylabel('% for question')\n",
      "ylim(-0.05, 1.05)\n",
      "legend(loc='best')\n"
     ],
     "language": "python",
     "metadata": {},
     "outputs": [
      {
       "metadata": {},
       "output_type": "pyout",
       "prompt_number": 155,
       "text": [
        "<matplotlib.legend.Legend at 0x107f326d0>"
       ]
      },
      {
       "metadata": {},
       "output_type": "display_data",
       "png": "[encoded data removed]",
       "text": [
        "<matplotlib.figure.Figure at 0x108b9b990>"
       ]
      },
      {
       "metadata": {},
       "output_type": "display_data",
       "png": "[encoded data removed]",
       "text": [
        "<matplotlib.figure.Figure at 0x108d0cb50>"
       ]
      }
     ],
     "prompt_number": 155
    },
    {
     "cell_type": "heading",
     "level": 1,
     "metadata": {},
     "source": [
      "So diagnostic test is unsuitable for accurately assessing the top 5 students in the 2014 test (175, 176, 177, 178, 179)"
     ]
    },
    {
     "cell_type": "heading",
     "level": 1,
     "metadata": {},
     "source": [
      "it is also unsuitable for assessing the bottom 16-20 students"
     ]
    },
    {
     "cell_type": "code",
     "collapsed": false,
     "input": [],
     "language": "python",
     "metadata": {},
     "outputs": []
    },
    {
     "cell_type": "heading",
     "level": 1,
     "metadata": {},
     "source": [
      "Now we assess question performance (the above assessed student performance)"
     ]
    },
    {
     "cell_type": "code",
     "collapsed": false,
     "input": [],
     "language": "python",
     "metadata": {},
     "outputs": []
    }
   ],
   "metadata": {}
  }
 ]
}