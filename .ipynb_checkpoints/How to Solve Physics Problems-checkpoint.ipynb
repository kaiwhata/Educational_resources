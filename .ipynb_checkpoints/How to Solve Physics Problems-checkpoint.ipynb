{
 "metadata": {
  "name": "",
  "signature": "sha256:d1876cb183a19b50a12aee98a9e944c32962d821689b2203e59420ad8c12d86c"
 },
 "nbformat": 3,
 "nbformat_minor": 0,
 "worksheets": [
  {
   "cells": [
    {
     "cell_type": "markdown",
     "metadata": {},
     "source": [
      "I love physics. Now that's out of the way it must be said that there are many people out there who DON'T love physics, and may even have good reasons to feel that way. Regardless many of you will have to study physics and learn how to do physics problems if you havent already, and the most common mistakes that come with doing physics study is the way in which students approach problems. Textbooks and websites are replete with worked examples of specific physics problems, but relatively few actually discuss a strategy for approaching entirely novel physics problems. That's what we're trying to explain here. This method won't work for everyone, and some people will develop their own unique techniques, however this will hopefully give you some idea of where to start!"
     ]
    },
    {
     "cell_type": "markdown",
     "metadata": {},
     "source": [
      "###How to approach physics problems: Step by Step"
     ]
    },
    {
     "cell_type": "markdown",
     "metadata": {},
     "source": [
      "* Step 0: Read the questions. Now read it again (seriously). Highlight or underline the important concepts\n",
      "* Step 1: Draw a simple diagram of the system (or copy the one given to you).\n",
      "* Step 2: Label everything you can, with known quantities, appropriate symbols and **UNITS**. Identify which are variables and which are constant.\n",
      "* Step 3: _Think:_ What do you know about the system? What principles are involved and what formula relate to those? \n",
      "* Step 4: Have a best guess of the answer, including units. You are looking for order of magnitude guess here (i.e. the answer rounded to the nearest power of 10).\n",
      "* Step 5: Select suitable formula(s) to use and re-arrage to solve for the unknown(s)\n",
      "* Step 6: Substitute in known values\n",
      "* Step 7: Check numerical value obtained for 'Sanity'. Check units. Check sign."
     ]
    },
    {
     "cell_type": "markdown",
     "metadata": {},
     "source": [
      "That gives you some idea of the process and i'll illustrate this in a moment with some examples.   \n",
      "However it should be obvious that in order to follow through those steps there are things you will have to memorise. In general people assume that Step 2 and Step 5 are the most important and consequently memorize a great list of formulae and (ocassionaly) units as well. That does help, but a far more efficient way is to instead focus on Step 3: principles and concepts. What you should be aiming for, to test if you _know_ a topic is to check whether your brain is instinctivly associating questions with particular concepts. If, when you're presented with a questions, you don't have any idea which concepts you need to solve it, that tells you that you either don't understand the subject matter or just aren't familiar enough with it yet. Only once you can correctly identify concepts of a problem should you concern yourself with re-gurgitating formula and units.  \n",
      "\n",
      "\n",
      "Why? Once you correctly identify the concept(s) needed for a problem you will already have an idea of the units involved. And from those will come the related formula. Having a central focus (the concept) to hinge the formula on makes it far easier for the brain to retain associations between things and soon you will find yourself remembering formula, units and yes even universal constants without actually ever having to sit down and memorize them. \n",
      "\n",
      "\n",
      "Lets try a few examples looking **only** at concepts.\n"
     ]
    },
    {
     "cell_type": "heading",
     "level": 1,
     "metadata": {},
     "source": [
      "Identifying concepts"
     ]
    },
    {
     "cell_type": "markdown",
     "metadata": {},
     "source": [
      "Here's an example:"
     ]
    },
    {
     "cell_type": "markdown",
     "metadata": {},
     "source": [
      ">You have been tasked by your boss to come up with a way of coating car's windscreen with a film that preferentially transmits and reflects specific wavelengths of visible light. Describe in detail how this might work and what factors limit the selectivity of the coating.\n",
      "\n",
      "Here, buried beneath the application is actually one simple physics concept: _interference_ (specifically thin film interference in this case, and yes there are others ways of addressing this problem as well including using the Brewster angle polarization of light and even a diffration grating carved into the surface of the glass but the keyword in the above paragraph is **film**)"
     ]
    },
    {
     "cell_type": "markdown",
     "metadata": {},
     "source": [
      "Here's another example:"
     ]
    },
    {
     "cell_type": "markdown",
     "metadata": {},
     "source": [
      ">You are building two robots a hunter and a preybot. The hunter uses a webcam and optical recognition to identify the prey robot and chase it down. The prey robot is to be equipped with a 'flash' circuit as a defense mechanism to momentarily confuse the hunter. What circuit elements would you need and how might you connect them to generate this effect?"
     ]
    },
    {
     "cell_type": "markdown",
     "metadata": {},
     "source": [
      "The concepts here are that the prey robot will need to quickly emit high intensity light, but not for extended period of time, so your circuit will need a 'burst' of current that can recharge over time. That means it will require some energy source to do this so you'll likely need some form of an Resistor-Capacitor circuit attached to a battery. The concepts we're looking for here are Kirchoff's laws for current and voltage and the general properties of capacitors."
     ]
    },
    {
     "cell_type": "markdown",
     "metadata": {},
     "source": [
      "Note that in these examples I have purposefully kept things very broad and general. If you are familar enough with the material then this shouldn't be a barrier to coming up with the concepts (even if you can't do the specific implementation)"
     ]
    },
    {
     "cell_type": "markdown",
     "metadata": {},
     "source": [
      "###Tricks for remembering concepts"
     ]
    },
    {
     "cell_type": "markdown",
     "metadata": {},
     "source": [
      "By the way you can remember/identify concepts any way you want. Just because something is called Ohm's law doesn't mean that _you_ have to remember it that way. Use whatever way makes it stick in your head.\n",
      "\n",
      "As an example, for me I frequently remember stories about how the concept was discovered and almost _never_ remember the names of the people involved. For example did you know that when AC and DC were first discovered, Nikolai Tesla and Thomas Edison each touted one over the other in a [_War of Currents_](http://en.wikipedia.org/wiki/War_of_Currents) that ended up with people travelling the country and horrifically electrocuting animals with the other's current in front of crowd of on-lookers. Who won? Neither really, both DC and AC have their uses but specifically AC is good for tranporting electricity long distances but requires high voltages to do so (it significantly lowers the power lost during transmission) and so at first seems much more dangerous. The reality is that _current_ is what kills/harms, not voltage alone and both AC or DC can kill if the opportunity arises. I specifically remember all of that because of this picture ![Topsy](http://cienciaxxi.es/blog/wp-content/uploads/2013/09/topsy.jpg) of an elephant that was electrocuted in 1903 (turns out it had nothing to do with the war of currents above - but in my memory that's what it is connected to)\n",
      "\n",
      "Sometimes I remember a pretty/intersting/beautiful application of the concept (Howards labs are _great_ for discovering these, or alternatively watch a few episodes of [COSMOS](http://en.wikipedia.org/wiki/Cosmos:_A_Spacetime_Odyssey). Howard's levitating superconductor for rememebering induction, or looking at rainbow diffraction patterns to remember the physics of atomic line spectra are both examples I hinge my knowledge on today and a recent episode of Cosmos has provided me with a way to remember black body radiation through the accidental discovery of infra-red light.\n",
      "\n",
      "Get the idea?\n",
      "\n",
      "It does take time for these concepts to lodge themselves in your head however. And different ones will take different lengths of time. (Again using myself as an example - motion conepts stick on my head easily, however optics concepts I have to go over many many times just to get them to settle into my memory and I still have to revise them every year before teaching them)"
     ]
    },
    {
     "cell_type": "heading",
     "level": 6,
     "metadata": {},
     "source": [
      "Here are a few other questions. Read them and then try to identify the physics concepts involved.  \n"
     ]
    },
    {
     "cell_type": "markdown",
     "metadata": {},
     "source": [
      "> 1: A 5 $\\mu$F capacitor is charged to a potential difference of 800V and then discharged through a 25.0kV resistor. How much energy is released from the resistor once the circuit has fully discharged?"
     ]
    },
    {
     "cell_type": "markdown",
     "metadata": {},
     "source": [
      "> 2: An electromagnet produces a uniform magnetic field of 1.6 T over a cross-sectional ara of 0.2m$^2$. We place a coil hving 200 turns and a total resistance of 20.0 $\\Omega$ around the electromagnet.We then smoothly reduce the current in the electromagnet until it reaches zero in 20.0 ms. What is the current induced in the coil?"
     ]
    },
    {
     "cell_type": "markdown",
     "metadata": {},
     "source": [
      "> 3: A spherical lightbulb of diameter 3.20 cm radiates light equally in all directions with power 4.5 W. Find the light in tensity at the surface of the bulb. Find the light intensity 7.2 cm away from the bulb. At this distance a lens is set up with its axis pointing towards the bulb. The lens is circular and has a diameter of 15 cm and a focal length of 35 cm. Find there diameter of the image of the bulb. Find the location of the image. Find the light intensity at the image."
     ]
    },
    {
     "cell_type": "markdown",
     "metadata": {},
     "source": [
      "> 4: At the north pole of an exoplanet the vertical magnetic field is 2 T. At what speed would you have to fire a proton horizontally in this environment to get it to move in a circle with radius 100 m. (You can assume the magnetic field is constant over this area). To fire the proton at this speed you have a charged capacitor with plates 2 cm apart. What voltage would be required on the capacitor (of C = 5 F) to achieve this velocity?"
     ]
    },
    {
     "cell_type": "code",
     "collapsed": false,
     "input": [],
     "language": "python",
     "metadata": {},
     "outputs": []
    }
   ],
   "metadata": {}
  }
 ]
}