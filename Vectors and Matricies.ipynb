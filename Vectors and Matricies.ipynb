{
 "metadata": {
  "name": "",
  "signature": "sha256:07caff8542c0e1c2527eceb09be1559e52fbe019d157007757453226368580de"
 },
 "nbformat": 3,
 "nbformat_minor": 0,
 "worksheets": [
  {
   "cells": [
    {
     "cell_type": "heading",
     "level": 1,
     "metadata": {},
     "source": [
      "Vectors and Matricies"
     ]
    },
    {
     "cell_type": "heading",
     "level": 1,
     "metadata": {},
     "source": [
      "Matricies Rules"
     ]
    },
    {
     "cell_type": "markdown",
     "metadata": {},
     "source": [
      "AB doesn't equal BA but the determinants are equal |AB| = |BA|"
     ]
    },
    {
     "cell_type": "code",
     "collapsed": false,
     "input": [
      "A^-1^-1 = A\n",
      "(AB)^-1 = B^-1A^-1\n",
      "(A-1)' = (A')-1\n",
      "|A-1| = |A|-1"
     ],
     "language": "python",
     "metadata": {},
     "outputs": []
    },
    {
     "cell_type": "heading",
     "level": 1,
     "metadata": {},
     "source": [
      "Multiplication"
     ]
    },
    {
     "cell_type": "heading",
     "level": 1,
     "metadata": {},
     "source": [
      "Cross Product"
     ]
    },
    {
     "cell_type": "heading",
     "level": 1,
     "metadata": {},
     "source": [
      "Dot Product"
     ]
    },
    {
     "cell_type": "heading",
     "level": 1,
     "metadata": {},
     "source": [
      "Cofactors"
     ]
    },
    {
     "cell_type": "heading",
     "level": 1,
     "metadata": {},
     "source": [
      "Inverse"
     ]
    },
    {
     "cell_type": "code",
     "collapsed": false,
     "input": [
      "A * A^-1 = I"
     ],
     "language": "python",
     "metadata": {},
     "outputs": []
    },
    {
     "cell_type": "code",
     "collapsed": false,
     "input": [
      "Inverse only exists if det (A) not equal to 0"
     ],
     "language": "python",
     "metadata": {},
     "outputs": []
    },
    {
     "cell_type": "code",
     "collapsed": false,
     "input": [
      "A^-1 = -/det(A) [Mij]' where [Mij]' is the transposition of the matrix of cofactors"
     ],
     "language": "python",
     "metadata": {},
     "outputs": []
    },
    {
     "cell_type": "markdown",
     "metadata": {},
     "source": [
      "Determinants"
     ]
    },
    {
     "cell_type": "code",
     "collapsed": false,
     "input": [],
     "language": "python",
     "metadata": {},
     "outputs": []
    },
    {
     "cell_type": "heading",
     "level": 1,
     "metadata": {},
     "source": [
      "Matrix solving"
     ]
    },
    {
     "cell_type": "code",
     "collapsed": false,
     "input": [
      "12p + 4q = 16\n",
      "3p - 7q = 10\n",
      "\n",
      "Ax = b\n",
      "\n",
      "[12, 4][p] = 16\n",
      "[3, -7][q] = 10\n",
      "\n",
      "therefore\n",
      "\n",
      "x = A^-1 b"
     ],
     "language": "python",
     "metadata": {},
     "outputs": []
    }
   ],
   "metadata": {}
  }
 ]
}